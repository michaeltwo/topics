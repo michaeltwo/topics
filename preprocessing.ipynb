{
 "cells": [
  {
   "cell_type": "code",
   "execution_count": 2,
   "metadata": {},
   "outputs": [],
   "source": [
    "import pandas as pd"
   ]
  },
  {
   "cell_type": "code",
   "execution_count": null,
   "metadata": {},
   "outputs": [
    {
     "name": "stdout",
     "output_type": "stream",
     "text": [
      "                                                 url                   date  \\\n",
      "0  http://twitter.com/scarlett_0hara/statuses/937...  2017-12-04 23:59:59.0   \n",
      "1  http://twitter.com/loriellenew/statuses/937833...  2017-12-04 23:59:44.0   \n",
      "2  http://twitter.com/kaydeelex/statuses/93783381...  2017-12-04 23:59:40.0   \n",
      "3  http://twitter.com/KendallMarolda/statuses/937...  2017-12-04 23:59:34.0   \n",
      "4  http://twitter.com/nyc_wright/statuses/9378337...  2017-12-04 23:59:18.0   \n",
      "\n",
      "                                           full text  impressions  \\\n",
      "0  RT @CernoCreatives You should talk about how @...         4187   \n",
      "1  The latest The @LorielleNew Reporter! https://...         1624   \n",
      "2  RT @ParisaFH We can’t just let this end up a c...          599   \n",
      "3  We have a lot of work to do. #metoo https://t....          305   \n",
      "4  RT @yesimpeachnow I believe the FBI I believe ...         1791   \n",
      "\n",
      "   twitter followers  \n",
      "0               4187  \n",
      "1               1624  \n",
      "2                599  \n",
      "3                305  \n",
      "4               1791  \n"
     ]
    }
   ],
   "source": [
    "df=pd.read_csv('..\\\\merged_file.csv')\n",
    "print(df.head())\n"
   ]
  }
 ],
 "metadata": {
  "kernelspec": {
   "display_name": "Python 3",
   "language": "python",
   "name": "python3"
  },
  "language_info": {
   "codemirror_mode": {
    "name": "ipython",
    "version": 3
   },
   "file_extension": ".py",
   "mimetype": "text/x-python",
   "name": "python",
   "nbconvert_exporter": "python",
   "pygments_lexer": "ipython3",
   "version": "3.13.0"
  }
 },
 "nbformat": 4,
 "nbformat_minor": 2
}
